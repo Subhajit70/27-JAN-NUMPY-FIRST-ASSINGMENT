{
 "cells": [
  {
   "cell_type": "code",
   "execution_count": 1,
   "id": "203a1b30-2a4a-471b-adc7-61859e5c3630",
   "metadata": {},
   "outputs": [
    {
     "data": {
      "text/plain": [
       "'A Python library is a collection of related modules that contain precompiled code for some specific tasks or operations.\\nWe use Python libraries to avoid writing the same code again and again, and to make our programming easier and more convenient.\\nPython libraries also provide us with various functionalities and features that are not available in the standard library, such as machine learning, data science, data visualization, web development, and more. \\nSme examples of popular Python libraries are TensorFlow, Matplotlib, Pandas, Django, and Flask'"
      ]
     },
     "execution_count": 1,
     "metadata": {},
     "output_type": "execute_result"
    }
   ],
   "source": [
    "#1. What is a Python library? Why ^o we use Python libraries?\n",
    "\"\"\"A Python library is a collection of related modules that contain precompiled code for some specific tasks or operations.\n",
    "We use Python libraries to avoid writing the same code again and again, and to make our programming easier and more convenient.\n",
    "Python libraries also provide us with various functionalities and features that are not available in the standard library, such as machine learning, data science, data visualization, web development, and more. \n",
    "Sme examples of popular Python libraries are TensorFlow, Matplotlib, Pandas, Django, and Flask\"\"\""
   ]
  },
  {
   "cell_type": "code",
   "execution_count": 2,
   "id": "e990d925-8a68-4a5b-9083-32a0b9beee3d",
   "metadata": {},
   "outputs": [
    {
     "data": {
      "text/plain": [
       "'A numpy array and a list are both data structures in Python, but they have some key differences. Here are some of them:\\n\\nA numpy array is a homogeneous array, which means all the elements have the same data type. A list is a heterogeneous list, which means the elements can have different data types12.\\nA numpy array has a fixed size and shape, which means you cannot append or remove elements without making a copy. A list has a dynamic size, which means you can append or remove elements easily13.\\nA numpy array is optimized for numerical computations and supports vectorized operations, which makes them faster and more efficient than lists. A list is a general-purpose data structure that can hold any kind of object, but is not optimized for numerical operations12.\\nA numpy array is stored in contiguous memory locations, which reduces memory overhead and improves performance. A list is stored as a sequence of references to objects, which increases memory overhead and may cause memory fragmentation'"
      ]
     },
     "execution_count": 2,
     "metadata": {},
     "output_type": "execute_result"
    }
   ],
   "source": [
    "#2. What is the ^ifference between Numpy array an^ List?\n",
    "\n",
    "\"\"\"A numpy array and a list are both data structures in Python, but they have some key differences. Here are some of them:\n",
    "\n",
    "A numpy array is a homogeneous array, which means all the elements have the same data type. A list is a heterogeneous list, which means the elements can have different data types12.\n",
    "A numpy array has a fixed size and shape, which means you cannot append or remove elements without making a copy. A list has a dynamic size, which means you can append or remove elements easily13.\n",
    "A numpy array is optimized for numerical computations and supports vectorized operations, which makes them faster and more efficient than lists. A list is a general-purpose data structure that can hold any kind of object, but is not optimized for numerical operations12.\n",
    "A numpy array is stored in contiguous memory locations, which reduces memory overhead and improves performance. A list is stored as a sequence of references to objects, which increases memory overhead and may cause memory fragmentation\"\"\""
   ]
  },
  {
   "cell_type": "code",
   "execution_count": 3,
   "id": "c0c4f05d-9392-4267-bcaf-f7e5a0f266df",
   "metadata": {},
   "outputs": [
    {
     "name": "stdout",
     "output_type": "stream",
     "text": [
      "Shape of the array: (3, 4)\n",
      "Size of the array: 12\n",
      "Dimension of the array: 2\n"
     ]
    }
   ],
   "source": [
    "#3. Fin^ the shape, size an^ ^imension of the following array?\n",
    "#[[1, 2, 3, 4]\n",
    "#[5, 6, 7, 8],\n",
    "#[9, 10, 11, 12]]\n",
    "\n",
    "import numpy as np\n",
    "array = np.array ( [ [1, 2, 3, 4], [5, 6, 7, 8], [9, 10, 11, 12]])\n",
    "print(\"Shape of the array:\", array.shape)\n",
    "print(\"Size of the array:\", array.size)\n",
    "print(\"Dimension of the array:\", array.ndim)\n",
    "\n",
    "\n"
   ]
  },
  {
   "cell_type": "code",
   "execution_count": 4,
   "id": "a9b437ef-a195-4dc6-9b19-cb8df363c5e5",
   "metadata": {},
   "outputs": [
    {
     "name": "stdout",
     "output_type": "stream",
     "text": [
      "[1, 2, 3, 4]\n"
     ]
    }
   ],
   "source": [
    "#4. Write python co^e to access the first row of the following array?\n",
    "#[[1, 2, 3, 4]\n",
    "#[5, 6, 7, 8],\n",
    "#[9, 10, 11, 12]]\n",
    "\n",
    "\n",
    "# Define the array as a list of lists\n",
    "array = [[1, 2, 3, 4], [5, 6, 7, 8], [9, 10, 11, 12]]\n",
    "\n",
    "# Access the first row by using index 0\n",
    "first_row = array[0]\n",
    "\n",
    "# Print the first row\n",
    "print(first_row)\n"
   ]
  },
  {
   "cell_type": "code",
   "execution_count": 5,
   "id": "222b17fd-b978-4141-899f-93be6933c103",
   "metadata": {},
   "outputs": [
    {
     "name": "stdout",
     "output_type": "stream",
     "text": [
      "12\n"
     ]
    }
   ],
   "source": [
    "#5. How ^o you access the element at the thir^ row an^ fourth column from the given numpy array?\n",
    "#[[1, 2, 3, 4]\n",
    "#[5, 6, 7, 8],\n",
    "#[9, 10, 11, 12]]\n",
    "\n",
    "\n",
    "# Create the numpy array\n",
    "a = np.array ( [[1, 2, 3, 4], [5, 6, 7, 8], [9, 10, 11, 12]])\n",
    "\n",
    "# Indexing starts from zero, so the third row is at index 2\n",
    "# and the fourth column is at index 3\n",
    "# Use square brackets to access the element\n",
    "element = a [2, 3]\n",
    "\n",
    "# Print the element\n",
    "print (element)\n"
   ]
  },
  {
   "cell_type": "code",
   "execution_count": 6,
   "id": "023b3a6d-aa98-4b4c-8d8e-b498e428548e",
   "metadata": {},
   "outputs": [
    {
     "name": "stdout",
     "output_type": "stream",
     "text": [
      "[[ 2  4]\n",
      " [ 6  8]\n",
      " [10 12]]\n"
     ]
    }
   ],
   "source": [
    "#6. Write co^e to extract all o^^-in^exe^ elements from the given numpy array?\n",
    "#[[1, 2, 3, 4]\n",
    "#[5, 6, 7, 8],\n",
    "#[9, 10, 11, 12]]\n",
    "\n",
    "import numpy as np\n",
    "\n",
    "# Define the numpy array\n",
    "arr = np.array([[1, 2, 3, 4], [5, 6, 7, 8], [9, 10, 11, 12]])\n",
    "\n",
    "# Use slicing to get the odd-indexed elements\n",
    "odd_arr = arr[:, 1::2]\n",
    "\n",
    "# Print the result\n",
    "print(odd_arr)\n",
    "\n"
   ]
  },
  {
   "cell_type": "code",
   "execution_count": 7,
   "id": "fe88f7de-ad59-4415-b2b0-588211582d9c",
   "metadata": {},
   "outputs": [
    {
     "name": "stdout",
     "output_type": "stream",
     "text": [
      "[[0.78648626 0.54888384 0.14990989]\n",
      " [0.35769572 0.82492714 0.84681042]\n",
      " [0.44405736 0.69241806 0.34658529]]\n"
     ]
    }
   ],
   "source": [
    "#7. How can you generate a ran^om 3x3 matrix with values between 0 an^ 1?\n",
    "# Import numpy library\n",
    "import numpy as np\n",
    "\n",
    "# Create a 3x3 array with random values from [0, 1)\n",
    "random_matrix = np.random.rand(3, 3)\n",
    "\n",
    "# Print the array\n",
    "print(random_matrix)\n",
    "\n",
    "\n"
   ]
  },
  {
   "cell_type": "code",
   "execution_count": 8,
   "id": "233d326f-2489-4bc7-adee-b48b189d21f9",
   "metadata": {},
   "outputs": [
    {
     "data": {
      "text/plain": [
       "'The main difference between np.random.rand and np.random.randn is the probability distribution from which they generate random numbersnp.random.rand produces numbers from a uniform distribution over the interval [0, 1), while np.random.randn produces numbers from a normal (Gaussian) distribution with a mean of 0 and a standard deviation of 112.\\nThis means that the numbers generated by np.random.rand are equally likely to fall anywhere in the range [0, 1), while the numbers generated by np.random.randn are more likely to be close to 0 and less likely to be very large or very small. The shapes of these distributions are shown below:\\nUniform\\xa0distribution:f(x)={10\\u200bif\\xa00≤x<1otherwise\\u200b\\nNormal\\xa0distribution:f(x)=2π\\u200b1\\u200be−2x2\\u200b\\nThe choice of which function to use depends on the purpose and the context of the random numbers. For example, if you want to simulate a fair coin toss, you can use np.random.rand and assign heads or tails based on whether the number is greater or less than 0.5. If you want to model the heights of people in a population, you can use np.random.randn and scale the numbers by the average height and the standard deviation. In general, np.random.randn is more suitable for situations where the random numbers have a natural center and a spread around it, while np.random.rand is more suitable for situations where the random numbers are uniformly distributed over a fixed interval.'"
      ]
     },
     "execution_count": 8,
     "metadata": {},
     "output_type": "execute_result"
    }
   ],
   "source": [
    "#8. Describe the ^ifference between np.ran^om.ran^ an^ np.ran^om.ran^n?\n",
    "\"\"\"The main difference between np.random.rand and np.random.randn is the probability distribution from which they generate random numbersnp.random.rand produces numbers from a uniform distribution over the interval [0, 1), while np.random.randn produces numbers from a normal (Gaussian) distribution with a mean of 0 and a standard deviation of 112.\n",
    "This means that the numbers generated by np.random.rand are equally likely to fall anywhere in the range [0, 1), while the numbers generated by np.random.randn are more likely to be close to 0 and less likely to be very large or very small. The shapes of these distributions are shown below:\n",
    "Uniform distribution:f(x)={10​if 0≤x<1otherwise​\n",
    "Normal distribution:f(x)=2π​1​e−2x2​\n",
    "The choice of which function to use depends on the purpose and the context of the random numbers. For example, if you want to simulate a fair coin toss, you can use np.random.rand and assign heads or tails based on whether the number is greater or less than 0.5. If you want to model the heights of people in a population, you can use np.random.randn and scale the numbers by the average height and the standard deviation. In general, np.random.randn is more suitable for situations where the random numbers have a natural center and a spread around it, while np.random.rand is more suitable for situations where the random numbers are uniformly distributed over a fixed interval.\"\"\"\n"
   ]
  },
  {
   "cell_type": "code",
   "execution_count": 9,
   "id": "d70638ea-8f21-43f1-988d-cfa5ebd54441",
   "metadata": {},
   "outputs": [
    {
     "name": "stdout",
     "output_type": "stream",
     "text": [
      "(3, 4)\n",
      "(1, 3, 4)\n"
     ]
    }
   ],
   "source": [
    "#9. Write co^e to increase the ^imension of the following array?\n",
    "#[[1, 2, 3, 4]\n",
    "#[5, 6, 7, 8],\n",
    "#[9, 10, 11, 12]]\n",
    "\n",
    "import numpy as np\n",
    "# create a 2D array\n",
    "arr = np.array([[1, 2, 3, 4],\n",
    "                [5, 6, 7, 8],\n",
    "                [9, 10, 11, 12]])\n",
    "# print the shape of the array\n",
    "print(arr.shape) # (3, 4)\n",
    "# increase the dimension by adding a new axis\n",
    "arr = np.expand_dims(arr, axis=0)\n",
    "# print the shape of the new array\n",
    "print(arr.shape) # (1, 3, 4)\n",
    "\n"
   ]
  },
  {
   "cell_type": "code",
   "execution_count": 10,
   "id": "a5f27250-1e48-4963-a03a-3a401d267a33",
   "metadata": {},
   "outputs": [
    {
     "name": "stdout",
     "output_type": "stream",
     "text": [
      "(3, 4)\n",
      "[[ 1  2  3  4]\n",
      " [ 5  6  7  8]\n",
      " [ 9 10 11 12]]\n",
      "(4, 3)\n",
      "[[ 1  5  9]\n",
      " [ 2  6 10]\n",
      " [ 3  7 11]\n",
      " [ 4  8 12]]\n",
      "(4, 3)\n",
      "[[ 1  5  9]\n",
      " [ 2  6 10]\n",
      " [ 3  7 11]\n",
      " [ 4  8 12]]\n"
     ]
    }
   ],
   "source": [
    "#10. How to transpose the following array in NumPy?\n",
    "#[[1, 2, 3, 4]\n",
    "#[5, 6, 7, 8],\n",
    "#[9, 10, 11, 12]]\n",
    "\n",
    "\n",
    "import numpy as np\n",
    "# create a 2D array\n",
    "arr = np.array([[1, 2, 3, 4],\n",
    "                [5, 6, 7, 8],\n",
    "                [9, 10, 11, 12]])\n",
    "# print the shape and the array\n",
    "print(arr.shape) # (3, 4)\n",
    "print(arr)\n",
    "# [[ 1  2  3  4]\n",
    "#  [ 5  6  7  8]\n",
    "#  [ 9 10 11 12]]\n",
    "\n",
    "# transpose the array using the transpose method\n",
    "arr_t = arr.transpose()\n",
    "# print the shape and the transposed array\n",
    "print(arr_t.shape) # (4, 3)\n",
    "print(arr_t)\n",
    "# [[ 1  5  9]\n",
    "#  [ 2  6 10]\n",
    "#  [ 3  7 11]\n",
    "#  [ 4  8 12]]\n",
    "\n",
    "# transpose the array using the .T attribute\n",
    "arr_t = arr.T\n",
    "# print the shape and the transposed array\n",
    "print(arr_t.shape) # (4, 3)\n",
    "print(arr_t)\n",
    "# [[ 1  5  9]\n",
    "#  [ 2  6 10]\n",
    "#  [ 3  7 11]\n",
    "#  [ 4  8 12]]\n"
   ]
  },
  {
   "cell_type": "code",
   "execution_count": 11,
   "id": "67d2281c-91e8-4c79-af7b-f84d11abf7a0",
   "metadata": {},
   "outputs": [],
   "source": [
    "#11. Consi^er the following matrix:\n",
    "#Matrix A2 [[1, 2, 3, 4] [5, 6, 7, 8],[9, 10, 11, 12]]\n",
    "#Matrix B2 [[1, 2, 3, 4] [5, 6, 7, 8],[9, 10, 11, 12]]"
   ]
  },
  {
   "cell_type": "code",
   "execution_count": 13,
   "id": "b8f96e11-b655-407b-b387-bb82330cb579",
   "metadata": {},
   "outputs": [
    {
     "name": "stdout",
     "output_type": "stream",
     "text": [
      "[[  1   4   9  16]\n",
      " [ 25  36  49  64]\n",
      " [ 81 100 121 144]]\n"
     ]
    }
   ],
   "source": [
    "# index wise multipication\n",
    "\n",
    "import numpy as np\n",
    "# create two matrices A2 and B2\n",
    "A2 = np.array([[1, 2, 3, 4],\n",
    "               [5, 6, 7, 8],\n",
    "               [9, 10, 11, 12]])\n",
    "B2 = np.array([[1, 2, 3, 4],\n",
    "               [5, 6, 7, 8],\n",
    "               [9, 10, 11, 12]])\n",
    "# perform index-wise multiplication\n",
    "C2 = np.multiply(A2, B2)\n",
    "# or equivalently\n",
    "C2 = A2 * B2\n",
    "# print the result\n",
    "print(C2)\n",
    "\n"
   ]
  },
  {
   "cell_type": "code",
   "execution_count": 23,
   "id": "784add0d-7355-4c67-ae31-73c2fffb7afb",
   "metadata": {},
   "outputs": [],
   "source": [
    "#matrix multipacti\n"
   ]
  },
  {
   "cell_type": "code",
   "execution_count": 22,
   "id": "bfcfcebe-52b2-42d5-86ee-2249dd2349a8",
   "metadata": {},
   "outputs": [],
   "source": [
    "#import numpy as np\n",
    "# create two matrices A2 and B2\n",
    "A2 = np.array([[1, 2, 3, 4],\n",
    "               [5, 6, 7, 8],\n",
    "               [9, 10, 11, 12]])\n",
    "B2 = np.array([[1, 2, 3, 4],\n",
    "               [5, 6, 7, 8],\n",
    "               [9, 10, 11, 12]])\n",
    "# perform matrix multiplication\n",
    "C2 = np.matmul(A2, B2)\n",
    "# or equivalently\n",
    "C2 = A2 @ B2\n",
    "# print the result\n",
    "print(C2)\n"
   ]
  },
  {
   "cell_type": "code",
   "execution_count": 1,
   "id": "bf5e391d-f6d3-46d5-b345-12191e3dc702",
   "metadata": {},
   "outputs": [
    {
     "name": "stdout",
     "output_type": "stream",
     "text": [
      "[[ 2  4  6  8]\n",
      " [10 12 14 16]\n",
      " [18 20 22 24]]\n"
     ]
    }
   ],
   "source": [
    "#add both the matrix\n",
    "\n",
    "import numpy as np\n",
    "# create two matrices A2 and B2\n",
    "A2 = np.array([[1, 2, 3, 4],\n",
    "               [5, 6, 7, 8],\n",
    "               [9, 10, 11, 12]])\n",
    "B2 = np.array([[1, 2, 3, 4],\n",
    "               [5, 6, 7, 8],\n",
    "               [9, 10, 11, 12]])\n",
    "# add the matrices using np.add\n",
    "C2 = np.add(A2, B2)\n",
    "# or equivalently using +\n",
    "C2 = A2 + B2\n",
    "# print the result\n",
    "print(C2)\n"
   ]
  },
  {
   "cell_type": "code",
   "execution_count": 2,
   "id": "8e87c991-915d-41bd-9de7-7162044f71ee",
   "metadata": {},
   "outputs": [
    {
     "name": "stdout",
     "output_type": "stream",
     "text": [
      "[[ 2  4  6  8]\n",
      " [10 12 14 16]\n",
      " [18 20 22 24]]\n"
     ]
    }
   ],
   "source": [
    "# subtract b from a\n",
    "\n",
    "import numpy as np\n",
    "# create two matrices A2 and B2\n",
    "A2 = np.array([[1, 2, 3, 4],\n",
    "               [5, 6, 7, 8],\n",
    "               [9, 10, 11, 12]])\n",
    "B2 = np.array([[1, 2, 3, 4],\n",
    "               [5, 6, 7, 8],\n",
    "               [9, 10, 11, 12]])\n",
    "# add the matrices using np.add\n",
    "C2 = np.add(A2, B2)\n",
    "# or equivalently using +\n",
    "C2 = A2 + B2\n",
    "# print the result\n",
    "print(C2)\n",
    "\n"
   ]
  },
  {
   "cell_type": "code",
   "execution_count": 3,
   "id": "87d1c3d6-390d-498d-92b0-fb8815436917",
   "metadata": {},
   "outputs": [
    {
     "name": "stdout",
     "output_type": "stream",
     "text": [
      "[[1. 1. 1. 1.]\n",
      " [1. 1. 1. 1.]\n",
      " [1. 1. 1. 1.]]\n"
     ]
    }
   ],
   "source": [
    "# devided matrix b by a\n",
    "\n",
    "import numpy as np\n",
    "# create two matrices A2 and B2\n",
    "A2 = np.array([[1, 2, 3, 4],\n",
    "               [5, 6, 7, 8],\n",
    "               [9, 10, 11, 12]])\n",
    "B2 = np.array([[1, 2, 3, 4],\n",
    "               [5, 6, 7, 8],\n",
    "               [9, 10, 11, 12]])\n",
    "# divide B2 by A2 using np.divide\n",
    "C2 = np.divide(B2, A2)\n",
    "# or equivalently using /\n",
    "C2 = B2 / A2\n",
    "# print the result\n",
    "print(C2)\n",
    "\n"
   ]
  },
  {
   "cell_type": "code",
   "execution_count": 4,
   "id": "0ecb0c17-1a60-4e48-a52f-86d50c264c65",
   "metadata": {},
   "outputs": [
    {
     "name": "stdout",
     "output_type": "stream",
     "text": [
      "['0x1', '0x100', '0x2233']\n",
      "['0x100', '0x1', '0x3322']\n"
     ]
    }
   ],
   "source": [
    "#12. Which function in Numpy can be use^ to swap the byte or^er of an array?\n",
    "\"\"\"One function in NumPy that can be used to swap the byte order of an array is np.ndarray.byteswap. This function toggles between low-endian and big-endian data representation by returning a byteswapped array, optionally swapped in-place\"\"\"\n",
    "\n",
    "import numpy as np\n",
    "# create an array of 16-bit integers\n",
    "arr = np.array( [1, 256, 8755], dtype=np.int16)\n",
    "# print the array in hexadecimal\n",
    "print(list(map(hex, arr))) # ['0x1', '0x100', '0x2233']\n",
    "# swap the bytes of the array\n",
    "arr.byteswap(inplace=True)\n",
    "# print the swapped array in hexadecimal\n",
    "print(list(map(hex, arr))) # ['0x100', '0x1', '0x3322']\n",
    "\n",
    "\n",
    "\n"
   ]
  },
  {
   "cell_type": "code",
   "execution_count": 5,
   "id": "19c2b43d-49f5-4f2d-8a58-9675aaadf59c",
   "metadata": {},
   "outputs": [
    {
     "name": "stdout",
     "output_type": "stream",
     "text": [
      "['0x1', '0x2', '0x3']\n",
      "['0x1000000', '0x2000000', '0x3000000']\n"
     ]
    }
   ],
   "source": [
    "\"\"\"Another function in NumPy that can be used to change the byte order of an array is np.ndarray.newbyteorder. This function changes the byte-ordering information in the array dtype so that it interprets the underlying data as being in a different byte orde\"\"\"\n",
    "\n",
    "import numpy as np\n",
    "# create an array of 32-bit integers\n",
    "arr = np.array( [1, 2, 3], dtype=np.int32)\n",
    "# print the array in hexadecimal\n",
    "print(list(map(hex, arr))) # ['0x1', '0x2', '0x3']\n",
    "# change the byte order of the array to big-endian\n",
    "arr = arr.newbyteorder('>')\n",
    "# print the array in hexadecimal\n",
    "print(list(map(hex, arr))) # ['0x1000000', '0x2000000', '0x3000000']\n",
    "\n"
   ]
  },
  {
   "cell_type": "code",
   "execution_count": 6,
   "id": "36c6142f-4ad0-43cc-a116-60a9223624a7",
   "metadata": {},
   "outputs": [
    {
     "data": {
      "text/plain": [
       "'The np.linalg.inv function is a NumPy function that computes the (multiplicative) inverse of a square matrix. The inverse of a matrix is such that if it is multiplied by the original matrix, it results in an identity matrix. The inverse of a matrix can be used to solve systems of linear equations, find the determinant of a matrix, or perform other matrix operations'"
      ]
     },
     "execution_count": 6,
     "metadata": {},
     "output_type": "execute_result"
    }
   ],
   "source": [
    "#13. What is the significance of the np.linalg.inv function?\n",
    "\n",
    "\n",
    "\"\"\"The np.linalg.inv function is a NumPy function that computes the (multiplicative) inverse of a square matrix. The inverse of a matrix is such that if it is multiplied by the original matrix, it results in an identity matrix. The inverse of a matrix can be used to solve systems of linear equations, find the determinant of a matrix, or perform other matrix operations\"\"\""
   ]
  },
  {
   "cell_type": "code",
   "execution_count": 7,
   "id": "e5f36d1d-70de-455e-a075-3000bc10be87",
   "metadata": {},
   "outputs": [
    {
     "name": "stdout",
     "output_type": "stream",
     "text": [
      "[ 1  2  3  4  5  6  7  8  9 10 11 12]\n",
      "[[[ 1  2  3]\n",
      "  [ 4  5  6]]\n",
      "\n",
      " [[ 7  8  9]\n",
      "  [10 11 12]]]\n"
     ]
    }
   ],
   "source": [
    "#14. What ^oes the np.reshape function ^o, an^ how is it use^?\n",
    "\n",
    "\"\"\"The np.reshape function is a NumPy function that changes the shape of an array without changing its data. It takes an array and a new shape as arguments, and returns a new array with the same data but with the new shape. The new shape must be compatible with the original shape, meaning that the total number of elements must be the same. One of the dimensions can be -1, which means that the value is inferred from the other\"\"\"\n",
    "\n",
    "\n",
    "import numpy as np\n",
    "# create a 2D array of shape (3, 4)\n",
    "arr = np.array([[1, 2, 3, 4],\n",
    "                [5, 6, 7, 8],\n",
    "                [9, 10, 11, 12]])\n",
    "# reshape the array into a 1D array of shape (12,)\n",
    "arr = np.reshape(arr, -1)\n",
    "# or equivalently\n",
    "arr = np.reshape(arr, 12)\n",
    "# print the reshaped array\n",
    "print(arr) # [ 1  2  3  4  5  6  7  8  9 10 11 12]\n",
    "# reshape the array into a 3D array of shape (2, 2, 3)\n",
    "arr = np.reshape(arr, (2, 2, 3))\n",
    "# print the reshaped array\n",
    "print(arr)\n",
    "# [[[ 1  2  3]\n",
    "#   [ 4  5  6]]\n",
    "#  [[ 7  8  9]\n",
    "#   [10 11 12]]]\n",
    "\n"
   ]
  },
  {
   "cell_type": "code",
   "execution_count": 8,
   "id": "84fffbab-e63b-4c06-af1c-f9bf03067a8a",
   "metadata": {},
   "outputs": [
    {
     "name": "stdout",
     "output_type": "stream",
     "text": [
      "[[11 22 33 44]\n",
      " [15 26 37 48]\n",
      " [19 30 41 52]]\n"
     ]
    }
   ],
   "source": [
    "#15. What is broa^casting in Numpy?\n",
    "\n",
    "\"\"\"\n",
    "Broadcasting in NumPy is a way of performing arithmetic operations on arrays with different shapes. It allows the smaller array to be “stretched” or “broadcasted” across the larger array so that they have compatible shapes. Broadcasting enables vectorization of array operations, which means that the looping is done in C instead of Python, resulting in faster and more efficient computations\"\"\"\n",
    "\n",
    "\n",
    "\n",
    "import numpy as np\n",
    "# create a 2D array of shape (3, 4)\n",
    "a = np.array([[1, 2, 3, 4],\n",
    "              [5, 6, 7, 8],\n",
    "              [9, 10, 11, 12]])\n",
    "# create a 1D array of shape (4,)\n",
    "b = np.array([10, 20, 30, 40])\n",
    "# add the 1D array to each row of the 2D array using broadcasting\n",
    "c = a + b\n",
    "# print the result\n",
    "print(c)\n",
    "\n"
   ]
  },
  {
   "cell_type": "code",
   "execution_count": 9,
   "id": "b0efcc88-382e-4552-a86e-eeb1028f28ec",
   "metadata": {},
   "outputs": [],
   "source": [
    "## COMPLETE##"
   ]
  },
  {
   "cell_type": "code",
   "execution_count": null,
   "id": "5e2cfbcf-f26f-4041-81d2-82db07dfddcd",
   "metadata": {},
   "outputs": [],
   "source": []
  }
 ],
 "metadata": {
  "kernelspec": {
   "display_name": "Python 3 (ipykernel)",
   "language": "python",
   "name": "python3"
  },
  "language_info": {
   "codemirror_mode": {
    "name": "ipython",
    "version": 3
   },
   "file_extension": ".py",
   "mimetype": "text/x-python",
   "name": "python",
   "nbconvert_exporter": "python",
   "pygments_lexer": "ipython3",
   "version": "3.10.8"
  }
 },
 "nbformat": 4,
 "nbformat_minor": 5
}
